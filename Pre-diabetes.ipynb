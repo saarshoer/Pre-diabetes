{
 "cells": [
  {
   "cell_type": "markdown",
   "metadata": {},
   "source": [
    "# Settings"
   ]
  },
  {
   "cell_type": "code",
   "execution_count": null,
   "metadata": {},
   "outputs": [],
   "source": [
    "import math\n",
    "import numpy as np\n",
    "import pandas as pd\n",
    "import seaborn as sns\n",
    "import matplotlib.pyplot as plt\n",
    "from matplotlib import rcParams\n",
    "from statannot import add_stat_annotation\n",
    "from scipy.stats import pearsonr, mannwhitneyu"
   ]
  },
  {
   "cell_type": "code",
   "execution_count": null,
   "metadata": {},
   "outputs": [],
   "source": [
    "from IPython.core.interactiveshell import InteractiveShell\n",
    "InteractiveShell.ast_node_interactivity = 'all'"
   ]
  },
  {
   "cell_type": "code",
   "execution_count": null,
   "metadata": {},
   "outputs": [],
   "source": [
    "rcParams['font.size'] = 12\n",
    "rcParams['figure.figsize'] = (9, 6)\n",
    "rcParams['savefig.dpi'] = 200\n",
    "rcParams['savefig.format'] = 'png'"
   ]
  },
  {
   "cell_type": "code",
   "execution_count": null,
   "metadata": {},
   "outputs": [],
   "source": [
    "colors = {\n",
    "    'MED diet': 'cornflowerblue', \n",
    "    'PPT diet': 'orange',\n",
    "    'Gut': 'lightpink',\n",
    "    'Oral': 'mediumseagreen'}"
   ]
  },
  {
   "cell_type": "code",
   "execution_count": null,
   "metadata": {},
   "outputs": [],
   "source": [
    "diet_order = ['PPT diet', 'MED diet']\n",
    "time_point_order = ['Pre-intervention', 'Post-intervention']\n",
    "env_order = ['Oral', 'Gut']"
   ]
  },
  {
   "cell_type": "code",
   "execution_count": null,
   "metadata": {},
   "outputs": [],
   "source": [
    "data_types = ['gut species', 'oral species', 'metabolites', 'cytokines']"
   ]
  },
  {
   "cell_type": "code",
   "execution_count": null,
   "metadata": {},
   "outputs": [],
   "source": [
    "alpha = 0.05"
   ]
  },
  {
   "cell_type": "markdown",
   "metadata": {},
   "source": [
    "# Data"
   ]
  },
  {
   "cell_type": "code",
   "execution_count": null,
   "metadata": {
    "scrolled": true
   },
   "outputs": [],
   "source": [
    "data = {}\n",
    "\n",
    "index = ['Diet', 'Participant ID', 'Time Point']\n",
    "\n",
    "s1 = 'Supplementary file 1 - Diet microbiome metabolites and cytokines data.xlsx'\n",
    "for data_type in ['diet']+data_types:\n",
    "    header = 12 if data_type == 'metabolites' else 0\n",
    "    data[data_type] = pd.read_excel(s1, sheet_name=data_type, header=header).set_index(index)\n",
    "\n",
    "    s2 = 'Supplementary file 2 - Microbiome metabolites and cytokines statistical tests.xlsx'\n",
    "for data_type in data_types:\n",
    "    for diet in diet_order:\n",
    "        data[f'{data_type} {diet}'] = pd.read_excel(s2, sheet_name=f'{data_type} {diet}').set_index('feature')\n",
    "        \n",
    "s3 = 'Supplementary file 3 - Serum metabolites predicted by the gut microbiome composition.xlsx'\n",
    "data_type = 'metabolites prediction'\n",
    "data[data_type] = pd.read_excel(s3, sheet_name=data_type, header=[0, 1]).T.reset_index(0).T.set_index(index)\n",
    "\n",
    "index = ['Species', 'Participant ID']\n",
    "\n",
    "s4 = 'Supplementary file 4 - Oral and gut microbial strains data.xlsx'\n",
    "for env in env_order:\n",
    "    data_type = f'{env.lower()} strains'\n",
    "    data[data_type] = pd.read_excel(s4, sheet_name=data_type).set_index(index)"
   ]
  },
  {
   "cell_type": "code",
   "execution_count": null,
   "metadata": {},
   "outputs": [],
   "source": [
    "for key in data.keys():\n",
    "    print(key, data[key].shape)"
   ]
  },
  {
   "cell_type": "markdown",
   "metadata": {},
   "source": [
    "# Figure 2"
   ]
  },
  {
   "cell_type": "code",
   "execution_count": null,
   "metadata": {},
   "outputs": [],
   "source": [
    "df = data['diet'].reset_index()"
   ]
  },
  {
   "cell_type": "code",
   "execution_count": null,
   "metadata": {
    "scrolled": false
   },
   "outputs": [],
   "source": [
    "for time_point in time_point_order:\n",
    "    \n",
    "    plt.figure()\n",
    "    ax = sns.scatterplot(x='% Carbohydrates', y='% Lipids', hue='Diet', hue_order=diet_order, data=df[df['Time Point'] == time_point], palette=colors, alpha=0.5, s=100)\n",
    "\n",
    "    plt.legend(title=False, loc='upper right', frameon=True)\n",
    "\n",
    "    plt.title('Intervention' if time_point == 'Post-intervention' else time_point)\n",
    "    plt.xlabel('% Carbohydrates in diet')\n",
    "    plt.ylabel('% Lipids in diet')\n",
    "    plt.xlim([9, 55])\n",
    "    plt.ylim([15, 75])\n",
    "    \n",
    "    plt.text(x=0, y=1.03, s='A' if time_point == 'Pre-intervention' else 'B', transform=ax.transAxes, size=20, weight='bold')   \n",
    "\n",
    "    plt.savefig(f'Figure 2{\"A\" if time_point == \"Pre-intervention\" else \"B\"}')"
   ]
  },
  {
   "cell_type": "markdown",
   "metadata": {},
   "source": [
    "# Figure 3"
   ]
  },
  {
   "cell_type": "code",
   "execution_count": null,
   "metadata": {},
   "outputs": [],
   "source": [
    "df = pd.DataFrame(columns=['data_type', 'diet', 'n_tested', 'n_sig'])\n",
    "\n",
    "for data_type in data_types:\n",
    "    for diet in diet_order:\n",
    "        key = f'{data_type} {diet}'\n",
    "        col = 'p_FDR' if data_type == 'cytokines' else 'p_bonferroni'\n",
    "        df.loc[df.shape[0]] = data_type[0].upper()+data_type[1:], diet, data[key].shape[0], (data[key][col] < alpha).sum()\n",
    "        \n",
    "df['%'] = 100*df['n_sig']/df['n_tested']"
   ]
  },
  {
   "cell_type": "code",
   "execution_count": null,
   "metadata": {},
   "outputs": [],
   "source": [
    "sns.barplot(x='data_type', y='%', hue='diet', hue_order=diet_order, data=df, palette=colors)\n",
    "\n",
    "plt.legend(title=None, loc='upper right')\n",
    "\n",
    "plt.xlabel('')\n",
    "plt.ylabel('% Signficant features')\n",
    "\n",
    "ticks, labels = plt.xticks()\n",
    "for t in ticks:\n",
    "    data_type = labels[t].get_text()\n",
    "    text_df = df.loc[(df['data_type'] == data_type) & (df['diet'] == diet_order[0])].iloc[0]\n",
    "    plt.text(x=t-0.2, y=text_df['%'], s=f'n={text_df[\"n_tested\"]:,}', ha='center')\n",
    "    text_df = df.loc[(df['data_type'] == data_type) & (df['diet'] == diet_order[1])].iloc[0]\n",
    "    plt.text(x=t+0.2, y=text_df['%'], s=f'n={text_df[\"n_tested\"]:,}', ha='center')\n",
    "    \n",
    "plt.savefig('Figure 3')"
   ]
  },
  {
   "cell_type": "markdown",
   "metadata": {},
   "source": [
    "# Figure 4"
   ]
  },
  {
   "cell_type": "code",
   "execution_count": null,
   "metadata": {},
   "outputs": [],
   "source": [
    "def get_delta(df):\n",
    "   \n",
    "    pre = df.xs('Pre-intervention', level='Time Point')\n",
    "    post = df.xs('Post-intervention', level='Time Point')\n",
    "\n",
    "    return post.subtract(pre)"
   ]
  },
  {
   "cell_type": "code",
   "execution_count": null,
   "metadata": {},
   "outputs": [],
   "source": [
    "def get_data(r):\n",
    "\n",
    "    preds = get_delta(data['metabolites prediction'].iloc[1:].astype(float))\n",
    "    actuals = get_delta(data['metabolites']).loc[preds.index, preds.columns]\n",
    "\n",
    "    df = actuals.groupby('Diet').mean().melt(ignore_index=False).set_index('variable', append=True).rename(columns={'value': 'observed change'}).join(\n",
    "         preds.groupby('Diet').mean().melt(ignore_index=False).set_index('variable', append=True).rename(columns={'value': 'predicted change'}))\n",
    "\n",
    "    df = df.join(data['metabolites prediction'].iloc[0].T.to_frame('R2').astype(float).dropna(), on='variable')\n",
    "    df = df.loc[df['R2'] < -r] if r < 0 else df.loc[df['R2'] > r]\n",
    "    df = df.reset_index()\n",
    "\n",
    "    return df"
   ]
  },
  {
   "cell_type": "code",
   "execution_count": null,
   "metadata": {
    "scrolled": false
   },
   "outputs": [],
   "source": [
    "for r2 in [-0.05, 0.05]:\n",
    "    \n",
    "    df = get_data(r2)\n",
    "    \n",
    "    plt.figure()\n",
    "    size = 'R2' if r2 > 0 else None\n",
    "    ax = sns.scatterplot(x='observed change', y='predicted change', hue='Diet', hue_order=diet_order, data=df, s=100, size=size, sizes=(50 ,300), palette=colors, alpha=0.5)\n",
    "\n",
    "    pearsonr(df['observed change'], df['predicted change'])\n",
    "\n",
    "    l = plt.legend(title=False, loc='lower right', frameon=True)\n",
    "    for handle in l.legendHandles:\n",
    "        diet = handle.get_label()\n",
    "        if diet in diet_order:\n",
    "            r, p = pearsonr(df.loc[df['Diet'] == diet, 'observed change'], df.loc[df['Diet'] == diet, 'predicted change'])\n",
    "            r, p\n",
    "            handle.set_label(f'{diet}\\nr={r:.2f}, ' + (f'p<1e{math.floor(math.log10(p))+1}' if p < 0.01 else f'p={p:.2f}'))\n",
    "    handles = l.legendHandles[1:] if len(l.legendHandles) > 5 else l.legendHandles\n",
    "    plt.legend(handles=handles, title=False, loc='upper left', frameon=True)\n",
    "        \n",
    "    plt.xlabel('Mean observed change per metabolite')\n",
    "    plt.ylabel('Mean predicted change per metabolite')\n",
    "\n",
    "    plt.text(x=0, y=1.03, s='A' if r2 > 0 else 'B', transform=ax.transAxes, size=20, weight='bold')   \n",
    "    \n",
    "    plt.title(f'{\"Poorly\" if r2 < 0 else \"Well\"} predicted metabolites (R2{\"<\" if r2 < 0 else \">\"}{abs(r2)})')\n",
    "    plt.savefig(f'Figure 4{\"A\" if r2 > 0 else \"B\"}')"
   ]
  },
  {
   "cell_type": "markdown",
   "metadata": {},
   "source": [
    "# Figure 5"
   ]
  },
  {
   "cell_type": "code",
   "execution_count": null,
   "metadata": {},
   "outputs": [],
   "source": [
    "def get_data(b):\n",
    "    \n",
    "    df = pd.concat([data['gut strains'].assign(env='Gut'), data['oral strains'].assign(env='Oral')])\n",
    "    df['Strain replacement'] = df['Strain replacement'].map({True: 1, False: 0})\n",
    "    df = df.groupby([b, 'env'])['Strain replacement'].apply(lambda g: (g.shape[0], g.mean()*100)).to_frame()\n",
    "    df['n'], df['%'] = df.iloc[:, 0].str\n",
    "    df['n_bin'] = pd.cut(df['n'], bins=np.arange(0, df['n'].max(), 18 if b == 'Participant ID' else 30))\n",
    "    df = df.reset_index()\n",
    "    \n",
    "    return df"
   ]
  },
  {
   "cell_type": "code",
   "execution_count": null,
   "metadata": {
    "scrolled": false
   },
   "outputs": [],
   "source": [
    "for by in ['Participant ID', 'Species']:\n",
    "\n",
    "    df = get_data(by)\n",
    "\n",
    "    plt.figure()\n",
    "    ax = sns.histplot(df, x='%', hue='env', hue_order=env_order, palette=colors, kde=False, element='step', binwidth=10, alpha=0.3, common_norm=False, stat='percent')\n",
    "\n",
    "    l = ax.legend(labels=env_order)\n",
    "    ax.legend(labels=env_order, handles=l.legendHandles[::-1], loc='upper right', frameon=True)\n",
    "    \n",
    "    plt.xlabel(f'% Strain repalcements per {by.replace(\"Participant ID\", \"participant\").lower()}')\n",
    "    plt.ylabel(f'% {\"Species\" if by == \"Participant ID\" else \"Participants\"}')\n",
    "    plt.xlim([0, 100])\n",
    "    plt.ylim([0, 100])\n",
    "\n",
    "    _, p = mannwhitneyu(x=df.loc[df['env'] == env_order[0], '%'].tolist(),\n",
    "                        y=df.loc[df['env'] == env_order[1], '%'].tolist(),\n",
    "                        use_continuity=True, alternative='two-sided', axis=0, method='auto')\n",
    "    plt.text(x=0.865, y=0.8, s='p'+r'$\\leq$'+f'{p:.0e}', transform=ax.transAxes)\n",
    "\n",
    "    plt.text(x=0, y=1.03, s='A' if by == 'Participant ID' else 'B', transform=ax.transAxes, size=20, weight='bold')\n",
    "\n",
    "    plt.savefig(f'Figure 5{\"A\" if by == \"Participant ID\" else \"B\"}')"
   ]
  },
  {
   "cell_type": "code",
   "execution_count": null,
   "metadata": {
    "scrolled": false
   },
   "outputs": [],
   "source": [
    "for by in ['Participant ID', 'Species']:\n",
    "    \n",
    "    df = get_data(by)\n",
    "    \n",
    "    plt.figure()\n",
    "    ax = sns.boxplot(x='n_bin', y='%', hue='env', hue_order=env_order, data=df, palette=colors, boxprops={'alpha': 0.7}, fliersize=0)\n",
    "    box_pairs = [((b, env_order[0]), (b, env_order[1])) for b in df['n_bin'].unique().dropna()]\n",
    "    ax, test_results = add_stat_annotation(ax, x='n_bin', y='%', hue='env', data=df, box_pairs=box_pairs, test='Mann-Whitney', text_format='simple', comparisons_correction=None)\n",
    "    sns.stripplot(x='n_bin', y='%', hue='env', hue_order=env_order, data=df, palette=colors, dodge=True, legend=False, color='lightgrey', s=8, alpha=0.3, ax=ax)\n",
    "\n",
    "    corr = df.groupby('env').apply(lambda env: pearsonr(env['n'], env['%']))\n",
    "    l = ax.legend(title=False, loc='upper right', frameon=True)\n",
    "    for handle in l.legendHandles:\n",
    "        env = handle.get_label()\n",
    "        r, p = corr.loc[env]\n",
    "        r, p\n",
    "        handle.set_label(f'{env}\\nr={r:.2f}, ' + (f'p<1e{math.floor(math.log10(p))+1}' if p < 0.01 else f'p={p:.2f}'))\n",
    "    plt.legend(handles=l.legendHandles, title=False, loc='upper right', frameon=True)\n",
    "\n",
    "    new_labels = [t.get_text().replace('(', '').replace(']', '').replace(', ', '-') for t in ax.get_xticklabels()]\n",
    "    ax.set_xticklabels(new_labels)\n",
    "    \n",
    "    plt.xlabel(f'Number of {\"species\" if by == \"Participant ID\" else \"participants\"} available for comparison')\n",
    "    plt.ylabel(f'% Strain repalcements per {by.replace(\"Participant ID\", \"participant\").lower()}')\n",
    "    \n",
    "    plt.text(x=0, y=1.03, s='C' if by == 'Participant ID' else 'D', transform=ax.transAxes, size=20, weight='bold')\n",
    "    \n",
    "    plt.savefig(f'Figure 5{\"C\" if by == \"Participant ID\" else \"D\"}')"
   ]
  }
 ],
 "metadata": {
  "kernelspec": {
   "display_name": "Python 3",
   "language": "python",
   "name": "python3"
  },
  "language_info": {
   "codemirror_mode": {
    "name": "ipython",
    "version": 3
   },
   "file_extension": ".py",
   "mimetype": "text/x-python",
   "name": "python",
   "nbconvert_exporter": "python",
   "pygments_lexer": "ipython3",
   "version": "3.7.4"
  },
  "toc": {
   "nav_menu": {},
   "number_sections": true,
   "sideBar": true,
   "skip_h1_title": false,
   "toc_cell": false,
   "toc_position": {
    "height": "758.949px",
    "left": "0px",
    "right": "1533.47px",
    "top": "111.051px",
    "width": "211.989px"
   },
   "toc_section_display": "block",
   "toc_window_display": true
  }
 },
 "nbformat": 4,
 "nbformat_minor": 4
}
